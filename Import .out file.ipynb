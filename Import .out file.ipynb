{
 "cells": [
  {
   "cell_type": "code",
   "execution_count": null,
   "metadata": {},
   "outputs": [],
   "source": []
  },
  {
   "cell_type": "code",
   "execution_count": 4,
   "metadata": {},
   "outputs": [
    {
     "data": {
      "text/plain": [
       "2"
      ]
     },
     "execution_count": 4,
     "metadata": {},
     "output_type": "execute_result"
    }
   ],
   "source": [
    "1+1"
   ]
  },
  {
   "cell_type": "code",
   "execution_count": null,
   "metadata": {},
   "outputs": [],
   "source": []
  },
  {
   "cell_type": "code",
   "execution_count": 3,
   "metadata": {},
   "outputs": [
    {
     "ename": "ModuleNotFoundError",
     "evalue": "No module named 'matplotlib'",
     "output_type": "error",
     "traceback": [
      "\u001b[1;31m---------------------------------------------------------------------------\u001b[0m",
      "\u001b[1;31mModuleNotFoundError\u001b[0m                       Traceback (most recent call last)",
      "\u001b[1;32mg:\\Meu Drive\\Arquivos PG Murilo\\Codigos python e processamentos\\Import .out file.ipynb Cell 2'\u001b[0m in \u001b[0;36m<cell line: 1>\u001b[1;34m()\u001b[0m\n\u001b[1;32m----> <a href='vscode-notebook-cell:/g%3A/Meu%20Drive/Arquivos%20PG%20Murilo/Codigos%20python%20e%20processamentos/Import%20.out%20file.ipynb#ch0000001?line=0'>1</a>\u001b[0m get_ipython()\u001b[39m.\u001b[39;49mrun_line_magic(\u001b[39m'\u001b[39;49m\u001b[39mmatplotlib\u001b[39;49m\u001b[39m'\u001b[39;49m, \u001b[39m'\u001b[39;49m\u001b[39m'\u001b[39;49m)\n",
      "File \u001b[1;32mg:\\Meu Drive\\Arquivos PG Murilo\\Codigos python e processamentos\\venv\\lib\\site-packages\\IPython\\core\\interactiveshell.py:2304\u001b[0m, in \u001b[0;36mInteractiveShell.run_line_magic\u001b[1;34m(self, magic_name, line, _stack_depth)\u001b[0m\n\u001b[0;32m   <a href='file:///g%3A/Meu%20Drive/Arquivos%20PG%20Murilo/Codigos%20python%20e%20processamentos/venv/lib/site-packages/IPython/core/interactiveshell.py?line=2301'>2302</a>\u001b[0m     kwargs[\u001b[39m'\u001b[39m\u001b[39mlocal_ns\u001b[39m\u001b[39m'\u001b[39m] \u001b[39m=\u001b[39m \u001b[39mself\u001b[39m\u001b[39m.\u001b[39mget_local_scope(stack_depth)\n\u001b[0;32m   <a href='file:///g%3A/Meu%20Drive/Arquivos%20PG%20Murilo/Codigos%20python%20e%20processamentos/venv/lib/site-packages/IPython/core/interactiveshell.py?line=2302'>2303</a>\u001b[0m \u001b[39mwith\u001b[39;00m \u001b[39mself\u001b[39m\u001b[39m.\u001b[39mbuiltin_trap:\n\u001b[1;32m-> <a href='file:///g%3A/Meu%20Drive/Arquivos%20PG%20Murilo/Codigos%20python%20e%20processamentos/venv/lib/site-packages/IPython/core/interactiveshell.py?line=2303'>2304</a>\u001b[0m     result \u001b[39m=\u001b[39m fn(\u001b[39m*\u001b[39margs, \u001b[39m*\u001b[39m\u001b[39m*\u001b[39mkwargs)\n\u001b[0;32m   <a href='file:///g%3A/Meu%20Drive/Arquivos%20PG%20Murilo/Codigos%20python%20e%20processamentos/venv/lib/site-packages/IPython/core/interactiveshell.py?line=2304'>2305</a>\u001b[0m \u001b[39mreturn\u001b[39;00m result\n",
      "File \u001b[1;32mg:\\Meu Drive\\Arquivos PG Murilo\\Codigos python e processamentos\\venv\\lib\\site-packages\\IPython\\core\\magics\\pylab.py:99\u001b[0m, in \u001b[0;36mPylabMagics.matplotlib\u001b[1;34m(self, line)\u001b[0m\n\u001b[0;32m     <a href='file:///g%3A/Meu%20Drive/Arquivos%20PG%20Murilo/Codigos%20python%20e%20processamentos/venv/lib/site-packages/IPython/core/magics/pylab.py?line=96'>97</a>\u001b[0m     \u001b[39mprint\u001b[39m(\u001b[39m\"\u001b[39m\u001b[39mAvailable matplotlib backends: \u001b[39m\u001b[39m%s\u001b[39;00m\u001b[39m\"\u001b[39m \u001b[39m%\u001b[39m backends_list)\n\u001b[0;32m     <a href='file:///g%3A/Meu%20Drive/Arquivos%20PG%20Murilo/Codigos%20python%20e%20processamentos/venv/lib/site-packages/IPython/core/magics/pylab.py?line=97'>98</a>\u001b[0m \u001b[39melse\u001b[39;00m:\n\u001b[1;32m---> <a href='file:///g%3A/Meu%20Drive/Arquivos%20PG%20Murilo/Codigos%20python%20e%20processamentos/venv/lib/site-packages/IPython/core/magics/pylab.py?line=98'>99</a>\u001b[0m     gui, backend \u001b[39m=\u001b[39m \u001b[39mself\u001b[39;49m\u001b[39m.\u001b[39;49mshell\u001b[39m.\u001b[39;49menable_matplotlib(args\u001b[39m.\u001b[39;49mgui\u001b[39m.\u001b[39;49mlower() \u001b[39mif\u001b[39;49;00m \u001b[39misinstance\u001b[39;49m(args\u001b[39m.\u001b[39;49mgui, \u001b[39mstr\u001b[39;49m) \u001b[39melse\u001b[39;49;00m args\u001b[39m.\u001b[39;49mgui)\n\u001b[0;32m    <a href='file:///g%3A/Meu%20Drive/Arquivos%20PG%20Murilo/Codigos%20python%20e%20processamentos/venv/lib/site-packages/IPython/core/magics/pylab.py?line=99'>100</a>\u001b[0m     \u001b[39mself\u001b[39m\u001b[39m.\u001b[39m_show_matplotlib_backend(args\u001b[39m.\u001b[39mgui, backend)\n",
      "File \u001b[1;32mg:\\Meu Drive\\Arquivos PG Murilo\\Codigos python e processamentos\\venv\\lib\\site-packages\\IPython\\core\\interactiveshell.py:3472\u001b[0m, in \u001b[0;36mInteractiveShell.enable_matplotlib\u001b[1;34m(self, gui)\u001b[0m\n\u001b[0;32m   <a href='file:///g%3A/Meu%20Drive/Arquivos%20PG%20Murilo/Codigos%20python%20e%20processamentos/venv/lib/site-packages/IPython/core/interactiveshell.py?line=3450'>3451</a>\u001b[0m \u001b[39mdef\u001b[39;00m \u001b[39menable_matplotlib\u001b[39m(\u001b[39mself\u001b[39m, gui\u001b[39m=\u001b[39m\u001b[39mNone\u001b[39;00m):\n\u001b[0;32m   <a href='file:///g%3A/Meu%20Drive/Arquivos%20PG%20Murilo/Codigos%20python%20e%20processamentos/venv/lib/site-packages/IPython/core/interactiveshell.py?line=3451'>3452</a>\u001b[0m     \u001b[39m\"\"\"Enable interactive matplotlib and inline figure support.\u001b[39;00m\n\u001b[0;32m   <a href='file:///g%3A/Meu%20Drive/Arquivos%20PG%20Murilo/Codigos%20python%20e%20processamentos/venv/lib/site-packages/IPython/core/interactiveshell.py?line=3452'>3453</a>\u001b[0m \n\u001b[0;32m   <a href='file:///g%3A/Meu%20Drive/Arquivos%20PG%20Murilo/Codigos%20python%20e%20processamentos/venv/lib/site-packages/IPython/core/interactiveshell.py?line=3453'>3454</a>\u001b[0m \u001b[39m    This takes the following steps:\u001b[39;00m\n\u001b[1;32m   (...)\u001b[0m\n\u001b[0;32m   <a href='file:///g%3A/Meu%20Drive/Arquivos%20PG%20Murilo/Codigos%20python%20e%20processamentos/venv/lib/site-packages/IPython/core/interactiveshell.py?line=3469'>3470</a>\u001b[0m \u001b[39m        display figures inline.\u001b[39;00m\n\u001b[0;32m   <a href='file:///g%3A/Meu%20Drive/Arquivos%20PG%20Murilo/Codigos%20python%20e%20processamentos/venv/lib/site-packages/IPython/core/interactiveshell.py?line=3470'>3471</a>\u001b[0m \u001b[39m    \"\"\"\u001b[39;00m\n\u001b[1;32m-> <a href='file:///g%3A/Meu%20Drive/Arquivos%20PG%20Murilo/Codigos%20python%20e%20processamentos/venv/lib/site-packages/IPython/core/interactiveshell.py?line=3471'>3472</a>\u001b[0m     \u001b[39mfrom\u001b[39;00m \u001b[39mmatplotlib_inline\u001b[39;00m\u001b[39m.\u001b[39;00m\u001b[39mbackend_inline\u001b[39;00m \u001b[39mimport\u001b[39;00m configure_inline_support\n\u001b[0;32m   <a href='file:///g%3A/Meu%20Drive/Arquivos%20PG%20Murilo/Codigos%20python%20e%20processamentos/venv/lib/site-packages/IPython/core/interactiveshell.py?line=3473'>3474</a>\u001b[0m     \u001b[39mfrom\u001b[39;00m \u001b[39mIPython\u001b[39;00m\u001b[39m.\u001b[39;00m\u001b[39mcore\u001b[39;00m \u001b[39mimport\u001b[39;00m pylabtools \u001b[39mas\u001b[39;00m pt\n\u001b[0;32m   <a href='file:///g%3A/Meu%20Drive/Arquivos%20PG%20Murilo/Codigos%20python%20e%20processamentos/venv/lib/site-packages/IPython/core/interactiveshell.py?line=3474'>3475</a>\u001b[0m     gui, backend \u001b[39m=\u001b[39m pt\u001b[39m.\u001b[39mfind_gui_and_backend(gui, \u001b[39mself\u001b[39m\u001b[39m.\u001b[39mpylab_gui_select)\n",
      "File \u001b[1;32mg:\\Meu Drive\\Arquivos PG Murilo\\Codigos python e processamentos\\venv\\lib\\site-packages\\matplotlib_inline\\backend_inline.py:6\u001b[0m, in \u001b[0;36m<module>\u001b[1;34m\u001b[0m\n\u001b[0;32m      <a href='file:///g%3A/Meu%20Drive/Arquivos%20PG%20Murilo/Codigos%20python%20e%20processamentos/venv/lib/site-packages/matplotlib_inline/backend_inline.py?line=0'>1</a>\u001b[0m \u001b[39m\"\"\"A matplotlib backend for publishing figures via display_data\"\"\"\u001b[39;00m\n\u001b[0;32m      <a href='file:///g%3A/Meu%20Drive/Arquivos%20PG%20Murilo/Codigos%20python%20e%20processamentos/venv/lib/site-packages/matplotlib_inline/backend_inline.py?line=2'>3</a>\u001b[0m \u001b[39m# Copyright (c) IPython Development Team.\u001b[39;00m\n\u001b[0;32m      <a href='file:///g%3A/Meu%20Drive/Arquivos%20PG%20Murilo/Codigos%20python%20e%20processamentos/venv/lib/site-packages/matplotlib_inline/backend_inline.py?line=3'>4</a>\u001b[0m \u001b[39m# Distributed under the terms of the BSD 3-Clause License.\u001b[39;00m\n\u001b[1;32m----> <a href='file:///g%3A/Meu%20Drive/Arquivos%20PG%20Murilo/Codigos%20python%20e%20processamentos/venv/lib/site-packages/matplotlib_inline/backend_inline.py?line=5'>6</a>\u001b[0m \u001b[39mimport\u001b[39;00m \u001b[39mmatplotlib\u001b[39;00m\n\u001b[0;32m      <a href='file:///g%3A/Meu%20Drive/Arquivos%20PG%20Murilo/Codigos%20python%20e%20processamentos/venv/lib/site-packages/matplotlib_inline/backend_inline.py?line=6'>7</a>\u001b[0m \u001b[39mfrom\u001b[39;00m \u001b[39mmatplotlib\u001b[39;00m\u001b[39m.\u001b[39;00m\u001b[39mbackends\u001b[39;00m\u001b[39m.\u001b[39;00m\u001b[39mbackend_agg\u001b[39;00m \u001b[39mimport\u001b[39;00m (  \u001b[39m# noqa\u001b[39;00m\n\u001b[0;32m      <a href='file:///g%3A/Meu%20Drive/Arquivos%20PG%20Murilo/Codigos%20python%20e%20processamentos/venv/lib/site-packages/matplotlib_inline/backend_inline.py?line=7'>8</a>\u001b[0m     new_figure_manager,\n\u001b[0;32m      <a href='file:///g%3A/Meu%20Drive/Arquivos%20PG%20Murilo/Codigos%20python%20e%20processamentos/venv/lib/site-packages/matplotlib_inline/backend_inline.py?line=8'>9</a>\u001b[0m     FigureCanvasAgg,\n\u001b[0;32m     <a href='file:///g%3A/Meu%20Drive/Arquivos%20PG%20Murilo/Codigos%20python%20e%20processamentos/venv/lib/site-packages/matplotlib_inline/backend_inline.py?line=9'>10</a>\u001b[0m     new_figure_manager_given_figure,\n\u001b[0;32m     <a href='file:///g%3A/Meu%20Drive/Arquivos%20PG%20Murilo/Codigos%20python%20e%20processamentos/venv/lib/site-packages/matplotlib_inline/backend_inline.py?line=10'>11</a>\u001b[0m )\n\u001b[0;32m     <a href='file:///g%3A/Meu%20Drive/Arquivos%20PG%20Murilo/Codigos%20python%20e%20processamentos/venv/lib/site-packages/matplotlib_inline/backend_inline.py?line=11'>12</a>\u001b[0m \u001b[39mfrom\u001b[39;00m \u001b[39mmatplotlib\u001b[39;00m \u001b[39mimport\u001b[39;00m colors\n",
      "\u001b[1;31mModuleNotFoundError\u001b[0m: No module named 'matplotlib'"
     ]
    }
   ],
   "source": [
    "\n"
   ]
  },
  {
   "cell_type": "code",
   "execution_count": null,
   "metadata": {},
   "outputs": [],
   "source": [
    "matplotlib.style.available"
   ]
  }
 ],
 "metadata": {
  "interpreter": {
   "hash": "ebbfe9e7e1ca41168463b2349388a04e6637cbf8b170666edf277aeb53ff8b8b"
  },
  "kernelspec": {
   "display_name": "Python 3.10.4 ('venv': venv)",
   "language": "python",
   "name": "python3"
  },
  "language_info": {
   "codemirror_mode": {
    "name": "ipython",
    "version": 3
   },
   "file_extension": ".py",
   "mimetype": "text/x-python",
   "name": "python",
   "nbconvert_exporter": "python",
   "pygments_lexer": "ipython3",
   "version": "3.10.4"
  },
  "orig_nbformat": 4
 },
 "nbformat": 4,
 "nbformat_minor": 2
}
